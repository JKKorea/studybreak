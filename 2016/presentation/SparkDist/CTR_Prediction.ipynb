{
 "cells": [
  {
   "cell_type": "markdown",
   "metadata": {},
   "source": [
    "# 원본 파일 받고 HDFS에 복사"
   ]
  },
  {
   "cell_type": "code",
   "execution_count": 1,
   "metadata": {
    "collapsed": false
   },
   "outputs": [
    {
     "name": "stdout",
     "output_type": "stream",
     "text": [
      "--2016-11-30 01:04:59--  http://criteolabs.wpengine.com/wp-content/uploads/2015/04/dac_sample.tar.gz\n",
      "Resolving criteolabs.wpengine.com (criteolabs.wpengine.com)... 162.13.141.181\n",
      "Connecting to criteolabs.wpengine.com (criteolabs.wpengine.com)|162.13.141.181|:80... connected.\n",
      "HTTP request sent, awaiting response... 200 OK\n",
      "Length: 8787154 (8.4M) [application/octet-stream]\n",
      "Saving to: ‘dac_sample.tar.gz.1’\n",
      "\n",
      "dac_sample.tar.gz.1 100%[===================>]   8.38M  1.12MB/s    in 8.1s    \n",
      "\n",
      "2016-11-30 01:05:08 (1.04 MB/s) - ‘dac_sample.tar.gz.1’ saved [8787154/8787154]\n",
      "\n"
     ]
    }
   ],
   "source": [
    "# 샘플 데이터 다운로드\n",
    "!wget 'http://criteolabs.wpengine.com/wp-content/uploads/2015/04/dac_sample.tar.gz'"
   ]
  },
  {
   "cell_type": "code",
   "execution_count": 2,
   "metadata": {
    "collapsed": false
   },
   "outputs": [
    {
     "name": "stdout",
     "output_type": "stream",
     "text": [
      "tar: Ignoring unknown extended header keyword `LIBARCHIVE.creationtime'\n",
      "tar: Ignoring unknown extended header keyword `SCHILY.dev'\n",
      "tar: Ignoring unknown extended header keyword `SCHILY.ino'\n",
      "tar: Ignoring unknown extended header keyword `SCHILY.nlink'\n",
      "dac_sample.txt\n",
      "tar: Ignoring unknown extended header keyword `SCHILY.dev'\n",
      "tar: Ignoring unknown extended header keyword `SCHILY.ino'\n",
      "tar: Ignoring unknown extended header keyword `SCHILY.nlink'\n",
      "./._readme.txt\n",
      "tar: Ignoring unknown extended header keyword `SCHILY.dev'\n",
      "tar: Ignoring unknown extended header keyword `SCHILY.ino'\n",
      "tar: Ignoring unknown extended header keyword `SCHILY.nlink'\n",
      "readme.txt\n",
      "tar: Ignoring unknown extended header keyword `SCHILY.dev'\n",
      "tar: Ignoring unknown extended header keyword `SCHILY.ino'\n",
      "tar: Ignoring unknown extended header keyword `SCHILY.nlink'\n",
      "license.txt\n"
     ]
    }
   ],
   "source": [
    "# 압축 풀기\n",
    "!tar xzvf dac_sample.tar.gz"
   ]
  },
  {
   "cell_type": "code",
   "execution_count": 3,
   "metadata": {
    "collapsed": false
   },
   "outputs": [],
   "source": [
    "# HDFS에 복사\n",
    "!hadoop fs -cp file:/home/hadoop/works/dac_sample.txt hdfs:/user/hadoop/dac_sample.txt"
   ]
  },
  {
   "cell_type": "markdown",
   "metadata": {},
   "source": [
    "# 원본 DataFrame 만들기"
   ]
  },
  {
   "cell_type": "code",
   "execution_count": 4,
   "metadata": {
    "collapsed": true
   },
   "outputs": [],
   "source": [
    "# 텍스트 파일 로드하여 Text RDD 생성\n",
    "text_rdd = sc.textFile('hdfs:/user/hadoop/dac_sample.txt')"
   ]
  },
  {
   "cell_type": "code",
   "execution_count": 5,
   "metadata": {
    "collapsed": false
   },
   "outputs": [],
   "source": [
    "# DataFrame의 스키마\n",
    "from pyspark.sql.types import *\n",
    "\n",
    "fields = [StructField(\"label\", IntegerType(), False),\n",
    "          StructField(\"features\", ArrayType(StringType()), False)\n",
    "         ]\n",
    "schema = StructType(fields)"
   ]
  },
  {
   "cell_type": "code",
   "execution_count": 6,
   "metadata": {
    "collapsed": false
   },
   "outputs": [
    {
     "data": {
      "text/plain": [
       "DataFrame[label: int, features: array<string>]"
      ]
     },
     "execution_count": 6,
     "metadata": {},
     "output_type": "execute_result"
    }
   ],
   "source": [
    "# 파싱하여 DataFrame 생성\n",
    "def parse(l):\n",
    "    elm = l.split('\\t')\n",
    "    return int(elm[0]), [\"{}: {}\".format(i, e) for i, e in enumerate(elm[1:])]\n",
    "\n",
    "raw_df = text_rdd.map(parse).toDF(schema)\n",
    "raw_df.cache()"
   ]
  },
  {
   "cell_type": "code",
   "execution_count": 7,
   "metadata": {
    "collapsed": false
   },
   "outputs": [
    {
     "data": {
      "text/plain": [
       "[Row(label=0, features=['0: 1', '1: 1', '2: 5', '3: 0', '4: 1382', '5: 4', '6: 15', '7: 2', '8: 181', '9: 1', '10: 2', '11: ', '12: 2', '13: 68fd1e64', '14: 80e26c9b', '15: fb936136', '16: 7b4723c4', '17: 25c83c98', '18: 7e0ccccf', '19: de7995b8', '20: 1f89b562', '21: a73ee510', '22: a8cd5504', '23: b2cb9c98', '24: 37c9c164', '25: 2824a5f6', '26: 1adce6ef', '27: 8ba8b39a', '28: 891b62e7', '29: e5ba7672', '30: f54016b9', '31: 21ddcdc9', '32: b1252a9d', '33: 07b5194c', '34: ', '35: 3a171ecb', '36: c5c50484', '37: e8b83407', '38: 9727dd16'])]"
      ]
     },
     "execution_count": 7,
     "metadata": {},
     "output_type": "execute_result"
    }
   ],
   "source": [
    "raw_df.take(1)"
   ]
  },
  {
   "cell_type": "code",
   "execution_count": 54,
   "metadata": {
    "collapsed": false
   },
   "outputs": [],
   "source": [
    "# Train, Validation, Test 셋 분리\n",
    "weights = [.8, .1, .1]\n",
    "seed = 42\n",
    "raw_train_df, raw_valid_df, raw_test_df = raw_df.randomSplit(weights, seed=seed)"
   ]
  },
  {
   "cell_type": "markdown",
   "metadata": {},
   "source": [
    "# One Hot Encoding을 위한 사전 만들기 "
   ]
  },
  {
   "cell_type": "code",
   "execution_count": 9,
   "metadata": {
    "collapsed": false
   },
   "outputs": [],
   "source": [
    "from pyspark.sql import functions as F\n",
    "\n",
    "# 전체 데이터의 Feature를 대상으로 One Hot Encoding 사전 만듦\n",
    "ohe_dict = raw_df.select(F.explode(raw_df.features)).distinct().rdd.map(lambda r: str(r[0])).zipWithIndex().collectAsMap()"
   ]
  },
  {
   "cell_type": "code",
   "execution_count": 10,
   "metadata": {
    "collapsed": false
   },
   "outputs": [],
   "source": [
    "# 수행시간 최적화를 위해 OHE 사전을 Broadcast\n",
    "ohe_dict_bc = sc.broadcast(ohe_dict)"
   ]
  },
  {
   "cell_type": "code",
   "execution_count": 11,
   "metadata": {
    "collapsed": true
   },
   "outputs": [],
   "source": [
    "# 주의: mllib이 아닌 ml의 SparseVector\n",
    "from pyspark.ml.linalg import SparseVector\n",
    "\n",
    "# OHE 함수\n",
    "#   메모리를 절약하기 위해 SparseVector 사용\n",
    "def one_hot_encoding(raw_feats, dict_bc, num_feats):\n",
    "    indices = sorted([dict_bc.value[feat] for feat in raw_feats])\n",
    "    return SparseVector(num_feats, indices, [1] * len(indices))"
   ]
  },
  {
   "cell_type": "code",
   "execution_count": 12,
   "metadata": {
    "collapsed": true
   },
   "outputs": [],
   "source": [
    "from pyspark.ml.linalg import VectorUDT\n",
    "\n",
    "# OHE UDF 함수를 생성기\n",
    "#   One Hot Encoding의 결과(SparseVector)는 VectorUDT(User Defined Type)형으로 SQL측에 반환해야 함\n",
    "def ohe_udf_gen(dict_bc):\n",
    "    length = len(dict_bc.value)\n",
    "    return F.udf(lambda x: one_hot_encoding(x, dict_bc, length), VectorUDT())"
   ]
  },
  {
   "cell_type": "code",
   "execution_count": 13,
   "metadata": {
    "collapsed": false
   },
   "outputs": [],
   "source": [
    "# OHE UDF 함수 생성\n",
    "ohe_dict_udf = ohe_udf_gen(ohe_dict_bc)"
   ]
  },
  {
   "cell_type": "markdown",
   "metadata": {},
   "source": [
    "# 사전을 통해 One Hot Encoding된 Feature 만들기"
   ]
  },
  {
   "cell_type": "code",
   "execution_count": 14,
   "metadata": {
    "collapsed": false
   },
   "outputs": [
    {
     "data": {
      "text/plain": [
       "DataFrame[label: double, features: vector]"
      ]
     },
     "execution_count": 14,
     "metadata": {},
     "output_type": "execute_result"
    }
   ],
   "source": [
    "# label은 DoubleType이어야 하기에 cast\n",
    "ohe_train_df = raw_train_df.select(F.col('label').cast('double'), \n",
    "                                   ohe_dict_udf(F.col('features')).alias('features'))\n",
    "ohe_train_df.cache()"
   ]
  },
  {
   "cell_type": "code",
   "execution_count": 15,
   "metadata": {
    "collapsed": false
   },
   "outputs": [
    {
     "data": {
      "text/plain": [
       "DataFrame[label: double, features: vector]"
      ]
     },
     "execution_count": 15,
     "metadata": {},
     "output_type": "execute_result"
    }
   ],
   "source": [
    "ohe_valid_df = raw_valid_df.select(F.col('label').cast('double'), \n",
    "                                   ohe_dict_udf(F.col('features')).alias('features'))\n",
    "ohe_valid_df.cache()"
   ]
  },
  {
   "cell_type": "code",
   "execution_count": 16,
   "metadata": {
    "collapsed": false
   },
   "outputs": [
    {
     "data": {
      "text/plain": [
       "DataFrame[label: double, features: vector]"
      ]
     },
     "execution_count": 16,
     "metadata": {},
     "output_type": "execute_result"
    }
   ],
   "source": [
    "ohe_test_df = raw_test_df.select(F.col('label').cast('double'), \n",
    "                                 ohe_dict_udf(F.col('features')).alias('features'))\n",
    "ohe_test_df.cache()"
   ]
  },
  {
   "cell_type": "markdown",
   "metadata": {},
   "source": [
    "# Logistic Regression 학습"
   ]
  },
  {
   "cell_type": "code",
   "execution_count": 60,
   "metadata": {
    "collapsed": false
   },
   "outputs": [
    {
     "name": "stdout",
     "output_type": "stream",
     "text": [
      "intercept: -1.2305792897509757\n",
      "length of coefficients: 273531\n"
     ]
    }
   ],
   "source": [
    "from pyspark.ml.classification import LogisticRegression\n",
    "\n",
    "# Logistic Regression 객체 생성\n",
    "#  elasticNetParam을 0으로 하면 RidgeRegressionWithSGD와 같아진다.\n",
    "#  이 경우 coefficients가 DenseVector로 반환되기에 구현이 간단해 진다.\n",
    "lr = LogisticRegression(standardization=False, elasticNetParam=0.0, \n",
    "                        regParam=.01, maxIter=20)\n",
    "\n",
    "lr_model_basic = lr.fit(ohe_train_df.select(ohe_train_df.label, \n",
    "                                            ohe_train_df.features))\n",
    "\n",
    "print('intercept: {0}'.format(lr_model_basic.intercept))\n",
    "print('length of coefficients: {0}'.format(len(lr_model_basic.coefficients)))\n",
    "sorted_coefficients = sorted(lr_model_basic.coefficients)[:5]"
   ]
  },
  {
   "cell_type": "code",
   "execution_count": 64,
   "metadata": {
    "collapsed": false
   },
   "outputs": [
    {
     "data": {
      "text/plain": [
       "273531"
      ]
     },
     "execution_count": 64,
     "metadata": {},
     "output_type": "execute_result"
    }
   ],
   "source": [
    "# 학습된 모델의 coefficients의 수는 OHE Dict의 수, 즉 피쳐 수와 같다.\n",
    "len(ohe_dict)"
   ]
  },
  {
   "cell_type": "markdown",
   "metadata": {},
   "source": [
    "# 학습된 모델을 통해 확률 추가하기"
   ]
  },
  {
   "cell_type": "code",
   "execution_count": 61,
   "metadata": {
    "collapsed": false
   },
   "outputs": [
    {
     "name": "stdout",
     "output_type": "stream",
     "text": [
      "+-----+--------------------+-------------------+\n",
      "|label|            features|                  p|\n",
      "+-----+--------------------+-------------------+\n",
      "|  0.0|(273531,[8237,189...|0.15245690119029345|\n",
      "|  0.0|(273531,[8237,189...|0.15116321092905766|\n",
      "|  0.0|(273531,[8237,189...| 0.1656905342059713|\n",
      "|  0.0|(273531,[2152,414...| 0.1297898533950584|\n",
      "|  0.0|(273531,[8237,177...|0.19090817079787498|\n",
      "+-----+--------------------+-------------------+\n",
      "only showing top 5 rows\n",
      "\n"
     ]
    }
   ],
   "source": [
    "from pyspark.sql.types import DoubleType\n",
    "from math import exp #  exp(-t) = e^-t\n",
    "\n",
    "# DataFrame에 확률 컬럼 'p'를 추가한다.\n",
    "def add_probability(df, model):\n",
    "    # 학습된 모델의 계수와 절편을 얻어와 직접 적용\n",
    "    coefficients_broadcast = sc.broadcast(model.coefficients)\n",
    "    intercept = model.intercept\n",
    "\n",
    "    def get_p(features):\n",
    "        # 예측값 계산\n",
    "        raw_prediction = intercept + features.dot(coefficients_broadcast.value)\n",
    "        # 수치적 안정화를 위해 예측 값은 -20에서 20사이의 값으로 조정\n",
    "        raw_prediction = max(min(raw_prediction, 20), -20)\n",
    "        # Sigmoid함수로 0과 1사이의 확률 값으로 반환\n",
    "        return 1. / (1 + exp(-raw_prediction))\n",
    "\n",
    "    get_p_udf = F.udf(get_p, DoubleType())\n",
    "    return df.withColumn('p', get_p_udf('features'))\n",
    "\n",
    "add_probability_model_basic = lambda df: add_probability(df, lr_model_basic)\n",
    "training_predictions = add_probability_model_basic(ohe_train_df).cache()\n",
    "\n",
    "training_predictions.show(5)"
   ]
  },
  {
   "cell_type": "markdown",
   "metadata": {},
   "source": [
    "# ROC 커브 그려보기"
   ]
  },
  {
   "cell_type": "code",
   "execution_count": 65,
   "metadata": {
    "collapsed": true
   },
   "outputs": [],
   "source": [
    "# Plot 레이아웃 준비\n",
    "def prepare_plot(xticks, yticks, figsize=(10.5, 6), hide_labels=False, grid_color='#999999',\n",
    "                 grid_width=1.0):\n",
    "    plt.close()\n",
    "    fig, ax = plt.subplots(figsize=figsize, facecolor='white', edgecolor='white')\n",
    "    ax.axes.tick_params(labelcolor='#999999', labelsize='10')\n",
    "    for axis, ticks in [(ax.get_xaxis(), xticks), (ax.get_yaxis(), yticks)]:\n",
    "        axis.set_ticks_position('none')\n",
    "        axis.set_ticks(ticks)\n",
    "        axis.label.set_color('#999999')\n",
    "        if hide_labels: axis.set_ticklabels([])\n",
    "    plt.grid(color=grid_color, linewidth=grid_width, linestyle='-')\n",
    "    map(lambda position: ax.spines[position].set_visible(False), ['bottom', 'top', 'left', 'right'])\n",
    "    return fig, ax"
   ]
  },
  {
   "cell_type": "code",
   "execution_count": 66,
   "metadata": {
    "collapsed": false
   },
   "outputs": [
    {
     "data": {
      "text/plain": [
       "[<matplotlib.lines.Line2D at 0x7fd65efa1748>]"
      ]
     },
     "execution_count": 66,
     "metadata": {},
     "output_type": "execute_result"
    },
    {
     "data": {
      "image/png": "[encoded data removed]",
      "text/plain": [
       "<matplotlib.figure.Figure at 0x7fd65f4615f8>"
      ]
     },
     "metadata": {},
     "output_type": "display_data"
    }
   ],
   "source": [
    "# ROC 그리기\n",
    "labels_and_scores = add_probability_model_basic(ohe_valid_df).select('label', 'p')\n",
    "labels_and_weights = labels_and_scores.collect()\n",
    "labels_and_weights.sort(key=lambda kv: kv[1], reverse=True)\n",
    "labels_by_weight = np.array([k for (k, v) in labels_and_weights])\n",
    "\n",
    "length = labels_by_weight.size\n",
    "true_positives = labels_by_weight.cumsum()\n",
    "num_positive = true_positives[-1]\n",
    "false_positives = np.arange(1.0, length + 1, 1.) - true_positives\n",
    "\n",
    "true_positive_rate = true_positives / num_positive\n",
    "false_positive_rate = false_positives / (length - num_positive)\n",
    "\n",
    "fig, ax = prepare_plot(np.arange(0., 1.1, 0.1), np.arange(0., 1.1, 0.1))\n",
    "ax.set_xlim(-.05, 1.05), ax.set_ylim(-.05, 1.05)\n",
    "ax.set_ylabel('True Positive Rate (Sensitivity)')\n",
    "ax.set_xlabel('False Positive Rate (1 - Specificity)')\n",
    "plt.plot(false_positive_rate, true_positive_rate, color='#8cbfd0', linestyle='-', linewidth=3.)\n",
    "plt.plot((0., 1.), (0., 1.), linestyle='--', color='#a6abf2', linewidth=2.)  # Baseline model"
   ]
  },
  {
   "cell_type": "markdown",
   "metadata": {
    "collapsed": true
   },
   "source": [
    "# 예측 결과"
   ]
  },
  {
   "cell_type": "code",
   "execution_count": 67,
   "metadata": {
    "collapsed": false
   },
   "outputs": [
    {
     "name": "stdout",
     "output_type": "stream",
     "text": [
      "Accuracy: 0.784398590840463\n"
     ]
    }
   ],
   "source": [
    "labels_and_scores = add_probability_model_basic(ohe_test_df).select('label', 'p')\n",
    "labels_and_weights = labels_and_scores.collect()\n",
    "labels_and_weights.sort(key=lambda kv: kv[1], reverse=True)\n",
    "n_sample = float(len(labels_and_weights))\n",
    "n_right = len([1 for lw in labels_and_weights if (lw.p >= 0.5 and lw.label == 1.0) or (lw.p < 0.5 and lw.label == 0.0)])\n",
    "print(\"Accuracy: {}\".format(n_right / n_sample))"
   ]
  },
  {
   "cell_type": "code",
   "execution_count": null,
   "metadata": {
    "collapsed": true
   },
   "outputs": [],
   "source": []
  }
 ],
 "metadata": {
  "kernelspec": {
   "display_name": "Python 3",
   "language": "python",
   "name": "python3"
  },
  "language_info": {
   "codemirror_mode": {
    "name": "ipython",
    "version": 3
   },
   "file_extension": ".py",
   "mimetype": "text/x-python",
   "name": "python",
   "nbconvert_exporter": "python",
   "pygments_lexer": "ipython3",
   "version": "3.4.3"
  },
  "toc": {
   "colors": {
    "hover_highlight": "#DAA520",
    "running_highlight": "#FF0000",
    "selected_highlight": "#FFD700"
   },
   "moveMenuLeft": true,
   "nav_menu": {
    "height": "161px",
    "width": "326px"
   },
   "navigate_menu": true,
   "number_sections": true,
   "sideBar": true,
   "threshold": 4,
   "toc_cell": false,
   "toc_section_display": "block",
   "toc_window_display": false
  }
 },
 "nbformat": 4,
 "nbformat_minor": 1
}
